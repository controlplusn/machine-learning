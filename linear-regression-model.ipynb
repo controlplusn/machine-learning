{
 "cells": [
  {
   "cell_type": "code",
   "execution_count": null,
   "id": "f61db6fe",
   "metadata": {},
   "outputs": [],
   "source": [
    "import numpy as np \n",
    "import pandas as pd\n",
    "import matplotlib.pylot as plt"
   ]
  },
  {
   "cell_type": "code",
   "execution_count": null,
   "id": "3c02846f",
   "metadata": {},
   "outputs": [],
   "source": [
    "training_set = pd.read_csv('training_set.csv')\n",
    "\n",
    "x_train = training_set[\"YearsExperience\"].values\n",
    "y_train = training_set[\"Salary\"].values"
   ]
  },
  {
   "cell_type": "code",
   "execution_count": 1,
   "id": "8ca6709f",
   "metadata": {},
   "outputs": [
    {
     "ename": "NameError",
     "evalue": "name 'plt' is not defined",
     "output_type": "error",
     "traceback": [
      "\u001b[31m---------------------------------------------------------------------------\u001b[39m",
      "\u001b[31mNameError\u001b[39m                                 Traceback (most recent call last)",
      "\u001b[36mCell\u001b[39m\u001b[36m \u001b[39m\u001b[32mIn[1]\u001b[39m\u001b[32m, line 1\u001b[39m\n\u001b[32m----> \u001b[39m\u001b[32m1\u001b[39m \u001b[43mplt\u001b[49m.scatter(x_train, y_train)\n\u001b[32m      2\u001b[39m plt.xlabel(\u001b[33m\"\u001b[39m\u001b[33mYearsExperience\u001b[39m\u001b[33m\"\u001b[39m)\n\u001b[32m      3\u001b[39m plt.ylabel(\u001b[33m\"\u001b[39m\u001b[33mSalary\u001b[39m\u001b[33m\"\u001b[39m)\n",
      "\u001b[31mNameError\u001b[39m: name 'plt' is not defined"
     ]
    }
   ],
   "source": [
    "plt.scatter(x_train, y_train)\n",
    "plt.xlabel(\"YearsExperience\")\n",
    "plt.ylabel(\"Salary\")\n",
    "plt.show()"
   ]
  },
  {
   "cell_type": "markdown",
   "id": "366eec4d",
   "metadata": {},
   "source": [
    "#### Goal:\n",
    "Find the best values for w and b in plotting the line\n",
    "\n",
    "# Implementation plan:\n",
    "1. Cost function\n",
    "2. Gradient function: compute derivatives of the cost function\n",
    "3. SGD function"
   ]
  },
  {
   "cell_type": "code",
   "execution_count": null,
   "id": "fc81b294",
   "metadata": {},
   "outputs": [],
   "source": [
    "def cost_function(x, y, w, b):\n",
    "    m = len(x)\n",
    "    cost_sum = 0\n",
    "\n",
    "    for i in range(m):\n",
    "        f = w * x[i] + b\n",
    "        cost = (f - y[i]) ** 2\n",
    "        cost_sum += cost\n",
    "\n",
    "    total_cost = (1/ (2 * m)) * cost_sum\n",
    "    return total_cost"
   ]
  },
  {
   "cell_type": "code",
   "execution_count": null,
   "id": "d5a0b5c8",
   "metadata": {},
   "outputs": [],
   "source": [
    "def gradient_function(x, y, w, b):\n",
    "    m = len(x)\n",
    "    dc_dw = 0\n",
    "    dc_db = 0\n",
    "\n",
    "    for i in range(m):\n",
    "        f = w * x[i] + b\n",
    "\n",
    "        dc_dw += (f - y[i]) * x[i]\n",
    "        dc_db += (f - y[i])\n",
    "\n",
    "    dc_dw = (1 / m) * dc_dw\n",
    "    dc_db = (1 / m) * dc_db\n",
    "\n",
    "    return dc_dw, dc_db"
   ]
  },
  {
   "cell_type": "code",
   "execution_count": null,
   "id": "905a96b8",
   "metadata": {},
   "outputs": [],
   "source": [
    "def sgd(x, y, alpha, iterations):\n",
    "    w = 0\n",
    "    b = 0\n",
    "\n",
    "    for i in range(iterations):\n",
    "        dc_dw, dc_db = gradient_function(x, y, w, b)\n",
    "\n",
    "        w = w - alpha * dc_dw\n",
    "        b = w - alpha * dc_db\n",
    "\n",
    "        print(f\"Iteration {i}: Cost {cost_function(x, y, w, b)}\")"
   ]
  }
 ],
 "metadata": {
  "kernelspec": {
   "display_name": "linear-regression",
   "language": "python",
   "name": "python3"
  },
  "language_info": {
   "codemirror_mode": {
    "name": "ipython",
    "version": 3
   },
   "file_extension": ".py",
   "mimetype": "text/x-python",
   "name": "python",
   "nbconvert_exporter": "python",
   "pygments_lexer": "ipython3",
   "version": "3.13.4"
  }
 },
 "nbformat": 4,
 "nbformat_minor": 5
}
